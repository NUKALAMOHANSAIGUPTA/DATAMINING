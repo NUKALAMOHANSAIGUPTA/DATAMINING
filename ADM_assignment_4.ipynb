{
  "nbformat": 4,
  "nbformat_minor": 0,
  "metadata": {
    "colab": {
      "provenance": [],
      "authorship_tag": "ABX9TyO46G1SAHEdcVb5Yv0ATWTn",
      "include_colab_link": true
    },
    "kernelspec": {
      "name": "python3",
      "display_name": "Python 3"
    },
    "language_info": {
      "name": "python"
    }
  },
  "cells": [
    {
      "cell_type": "markdown",
      "metadata": {
        "id": "view-in-github",
        "colab_type": "text"
      },
      "source": [
        "<a href=\"https://colab.research.google.com/github/NUKALAMOHANSAIGUPTA/DATAMINING/blob/main/ADM_assignment_4.ipynb\" target=\"_parent\"><img src=\"https://colab.research.google.com/assets/colab-badge.svg\" alt=\"Open In Colab\"/></a>"
      ]
    },
    {
      "cell_type": "code",
      "execution_count": 1,
      "metadata": {
        "id": "ewuE1HOeBMf_"
      },
      "outputs": [],
      "source": [
        "import pandas as pd"
      ]
    },
    {
      "cell_type": "code",
      "source": [
        "file_path = '/content/customer_sales_data.csv'\n",
        "df = pd.read_csv(file_path)\n"
      ],
      "metadata": {
        "id": "BxL8INW6CRPV"
      },
      "execution_count": 2,
      "outputs": []
    },
    {
      "cell_type": "code",
      "source": [
        "df = pd.get_dummies(df, columns=['Product_Category', 'Region'])"
      ],
      "metadata": {
        "id": "IuDTvAppCRMq"
      },
      "execution_count": 3,
      "outputs": []
    },
    {
      "cell_type": "code",
      "source": [
        "df['Customer_Gender'] = df['Customer_Gender'].map({'Male': 1, 'Female': 2})"
      ],
      "metadata": {
        "id": "jdC9Qv9pCRJ4"
      },
      "execution_count": 4,
      "outputs": []
    },
    {
      "cell_type": "code",
      "source": [
        "df['Sales_Profit'] = df['Sales_Amount'] * 0.25"
      ],
      "metadata": {
        "id": "Oya7Xx1kCRGX"
      },
      "execution_count": 5,
      "outputs": []
    },
    {
      "cell_type": "code",
      "source": [
        "grouped_sales = df.groupby('Product_Category_Electronics').agg(\n",
        "    Total_Sales=('Sales_Amount', 'sum'),\n",
        "    Avg_Quantity_Sold=('Quantity_Sold', 'mean')\n",
        ").reset_index()\n"
      ],
      "metadata": {
        "id": "QnGowXpxCRCN"
      },
      "execution_count": 6,
      "outputs": []
    },
    {
      "cell_type": "code",
      "source": [
        "pivot_sales = df.pivot_table(values='Sales_Amount', index='Region_North', columns='Product_Category_Electronics', aggfunc='sum', fill_value=0)"
      ],
      "metadata": {
        "id": "COE29TQdCQ_T"
      },
      "execution_count": 7,
      "outputs": []
    },
    {
      "cell_type": "code",
      "source": [
        "print(\"Encoded Data:\")\n",
        "print(df.head())\n",
        "print(\"\\nGrouped Sales Data:\")\n",
        "print(grouped_sales)\n",
        "print(\"\\nPivot Table:\")\n",
        "print(pivot_sales)"
      ],
      "metadata": {
        "colab": {
          "base_uri": "https://localhost:8080/",
          "height": 0
        },
        "id": "-5pGOWExCpJI",
        "outputId": "ebfe94dd-e3b2-4e56-99dc-1e5bc0fbdbd0"
      },
      "execution_count": 8,
      "outputs": [
        {
          "output_type": "stream",
          "name": "stdout",
          "text": [
            "Encoded Data:\n",
            "   Sales_ID  Sales_Amount  Quantity_Sold  Sales_Date  Customer_Age  \\\n",
            "0         1        654.82              5  2023-03-25            44   \n",
            "1         2        624.38              5  2023-03-24            37   \n",
            "2         3        427.01              6  2023-03-11            53   \n",
            "3         4        658.72              4  2023-03-19            42   \n",
            "4         5        272.72              8  2023-03-23            42   \n",
            "\n",
            "   Customer_Gender  Product_Category_Clothing  Product_Category_Electronics  \\\n",
            "0                2                      False                         False   \n",
            "1                2                      False                         False   \n",
            "2                2                      False                          True   \n",
            "3                1                       True                         False   \n",
            "4                2                       True                         False   \n",
            "\n",
            "   Product_Category_Home Appliances  Region_East  Region_North  Region_South  \\\n",
            "0                              True        False         False          True   \n",
            "1                              True         True         False         False   \n",
            "2                             False        False         False         False   \n",
            "3                             False         True         False         False   \n",
            "4                             False        False          True         False   \n",
            "\n",
            "   Region_West  Sales_Profit  \n",
            "0        False      163.7050  \n",
            "1        False      156.0950  \n",
            "2         True      106.7525  \n",
            "3        False      164.6800  \n",
            "4        False       68.1800  \n",
            "\n",
            "Grouped Sales Data:\n",
            "   Product_Category_Electronics  Total_Sales  Avg_Quantity_Sold\n",
            "0                         False     32529.67           5.341772\n",
            "1                          True      8404.22           6.428571\n",
            "\n",
            "Pivot Table:\n",
            "Product_Category_Electronics     False    True \n",
            "Region_North                                   \n",
            "False                         22490.09  7069.42\n",
            "True                          10039.58  1334.80\n"
          ]
        }
      ]
    },
    {
      "cell_type": "code",
      "source": [],
      "metadata": {
        "id": "Te7XdNjtCpHD"
      },
      "execution_count": null,
      "outputs": []
    },
    {
      "cell_type": "code",
      "source": [],
      "metadata": {
        "id": "ENlMw8zOCpDx"
      },
      "execution_count": null,
      "outputs": []
    },
    {
      "cell_type": "code",
      "source": [],
      "metadata": {
        "id": "7WcfYUnTCpAb"
      },
      "execution_count": null,
      "outputs": []
    },
    {
      "cell_type": "code",
      "source": [],
      "metadata": {
        "id": "4ZnAtT_PCo8Y"
      },
      "execution_count": null,
      "outputs": []
    },
    {
      "cell_type": "code",
      "source": [],
      "metadata": {
        "id": "a0RNoingCo5V"
      },
      "execution_count": null,
      "outputs": []
    }
  ]
}